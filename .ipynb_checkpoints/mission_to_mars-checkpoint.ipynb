{
 "cells": [
  {
   "cell_type": "code",
   "execution_count": 63,
   "metadata": {
    "ExecuteTime": {
     "end_time": "2018-08-23T17:56:07.706180Z",
     "start_time": "2018-08-23T17:56:07.701193Z"
    }
   },
   "outputs": [],
   "source": [
    "import pandas as pd\n",
    "import requests\n",
    "from bs4 import BeautifulSoup as bs\n",
    "import pymongo\n",
    "from splinter import Browser\n",
    "from selenium import webdriver\n",
    "import os\n",
    "import re\n",
    "import time\n",
    "\n",
    "project_path = os.path.join(\"C:/\",\"Users\",\"kling\",\"UNCC - Homework for Data Analytics\",\"WebScraping_MongoDB\")\n",
    "nasa_url = \"https://mars.nasa.gov/news/?page=0&per_page=40&order=publish_date+desc%2Ccreated_at+desc&search=&category=19%2C165%2C184%2C204&blank_scope=Latest\"\n",
    "jpl_url = \"https://www.jpl.nasa.gov/spaceimages/?search=&category=Mars\"\n",
    "twitter_url = \"https://twitter.com/marswxreport?lang=en\"\n",
    "facts_url=\"https://space-facts.com/mars/\"\n",
    "usgs_url = \"https://astrogeology.usgs.gov/search/results?q=hemisphere+enhanced&k1=target&v1=Mars\""
   ]
  },
  {
   "cell_type": "code",
   "execution_count": 2,
   "metadata": {
    "ExecuteTime": {
     "end_time": "2018-08-23T16:19:54.187685Z",
     "start_time": "2018-08-23T16:19:54.156768Z"
    }
   },
   "outputs": [],
   "source": [
    "conn = 'mongodb://localhost:27017'\n",
    "client = pymongo.MongoClient(conn)\n",
    "db = client.mars_db\n",
    "collection = db.articles"
   ]
  },
  {
   "cell_type": "code",
   "execution_count": 3,
   "metadata": {
    "ExecuteTime": {
     "end_time": "2018-08-23T16:20:09.809001Z",
     "start_time": "2018-08-23T16:19:54.190678Z"
    }
   },
   "outputs": [],
   "source": [
    "executable_path = {'executable_path': os.path.join(\"C:/\",\"Users\",\"kling\",\"UNCC Data Analytics\",\"chromedriver.exe\")}\n",
    "browser = Browser('chrome', **executable_path, headless=False)\n",
    "browser.visit(nasa_url)\n",
    "#get first article and follow link\n",
    "article_link = browser.find_link_by_partial_href('/news/')[0].click()\n",
    "html = browser.html\n",
    "soup = bs(html, \"html.parser\")"
   ]
  },
  {
   "cell_type": "code",
   "execution_count": 13,
   "metadata": {
    "ExecuteTime": {
     "end_time": "2018-08-23T16:40:28.793353Z",
     "start_time": "2018-08-23T16:40:28.783380Z"
    }
   },
   "outputs": [
    {
     "name": "stdout",
     "output_type": "stream",
     "text": [
      "This artist's concept shows the InSight spacecraft, encapsulated in its aeroshell, as it cruises to Mars. Image credit: NASA/JPL-Caltech Full image and captionNASA's InSight spacecraft, en route to a Nov. 26 landing on Mars, passed the halfway mark on Aug. 6. All of its instruments have been tested and are working well.As of Aug. 20, the spacecraft had covered 172 million miles (277 million kilometers) since its launch 107 days ago. In another 98 days, it will travel another 129 million miles (208 million kilometers) and touch down in Mars' Elysium Planitia region, where it will be the first mission to study the Red Planet's deep interior. InSight stands for Interior Exploration using Seismic Investigations, Geodesy and Heat Transport.The InSight team is using the time before the spacecraft's arrival at Mars to not only plan and practice for that critical day, but also to activate and check spacecraft subsystems vital to cruise, landing and surface operations, including the highly sensitive science instruments.InSight's seismometer, which will be used to detect quakes on Mars, received a clean bill of health on July 19. The SEIS instrument (Seismic Experiment for Interior Structure) is a six-sensor seismometer combining two types of sensors to measure ground motions over a wide range of frequencies. It will give scientists a window into Mars' internal activity.\"We did our final performance checks on July 19, which were successful,\" said Bruce Banerdt, principal investigator of InSight from NASA's Jet Propulsion Laboratory, Pasadena, California.The team also checked an instrument that will measure the amount of heat escaping from Mars. After being placed on the surface, InSight's Heat Flow and Physical Properties Package (HP3) instrument will use a self-hammering mechanical mole burrowing to a depth of 10 to 16 feet (3 to 5 meters). Measurements by sensors on the mole and on a science tether from the mole to the surface will yield the first precise determination of the amount of heat escaping from the planet's interior. The checkout consisted of powering on the main electronics for the instrument, performing checks of its instrument sensor elements, exercising some of the instrument's internal heaters, and reading out the stored settings in the electronics module.The third of InSight's three main investigations -- Rotation and Interior Structure Experiment (RISE) -- uses the spacecraft's radio connection with Earth to assess perturbations of Mars' rotation axis. These measurements can provide information about the planet's core.\"We have been using the spacecraft's radio since launch day, and our conversations with InSight have been very cordial, so we are good to go with RISE as well,\" said Banerdt.The lander's cameras checked out fine as well, taking a spacecraft selfie of the inside of the spacecraft's backshell. InSight Project Manager Tom Hoffman from JPL said that, \"If you are an engineer on InSight, that first glimpse of the heat shield blanket, harness tie-downs and cover bolts is a very reassuring sight as it tells us our Instrument Context Camera is operating perfectly. The next picture we plan to take with this camera will be of the surface of Mars.\"If all goes as planned, the camera will take the first image of Elysium Planitia minutes after InSight touches down on Mars.JPL manages InSight for NASA's Science Mission Directorate. InSight is part of NASA's Discovery Program, managed by the agency's Marshall Space Flight Center in Huntsville, Alabama. The InSight spacecraft, including cruise stage and lander, was built and tested by Lockheed Martin Space in Denver.A number of European partners, including France's Centre National d'Études Spatiales (CNES) and the German Aerospace Center (DLR), are supporting the InSight mission. CNES provided the Seismic Experiment for Interior Structure ( SEIS ) instrument, with significant contributions from the Max Planck Institute for Solar System Research (MPS) in Germany, the Swiss Institute of Technology (ETH) in Switzerland, Imperial College and Oxford University in the United Kingdom, and JPL. DLR provided the Heat Flow and Physical Properties Package ( HP3 ) instrument.For more information about InSight, and to follow along on its flight to Mars, visit: https://www.nasa.gov/insightMore information is at: https://mars.nasa.gov/insight/You can also follow along on InSight's path to Mars by visiting NASA's Eyes on the Solar System: https://go.nasa.gov/2FSWReg\n"
     ]
    }
   ],
   "source": [
    "news_title = soup.find(\"title\").text\n",
    "news_title = news_title.strip('\\n')\n",
    "#Get all paragraphs from article, strip tags and add them together into one block of text\n",
    "news_p = soup.find_all(\"p\")\n",
    "news_p = news_p[:-4]\n",
    "paragraph=\"\"\n",
    "for i in range(len(news_p)):\n",
    "    paragraph = paragraph + news_p[i].get_text(' ', strip=True)\n",
    "print(paragraph)"
   ]
  },
  {
   "cell_type": "code",
   "execution_count": 64,
   "metadata": {
    "ExecuteTime": {
     "end_time": "2018-08-23T17:56:50.624740Z",
     "start_time": "2018-08-23T17:56:41.806675Z"
    }
   },
   "outputs": [
    {
     "name": "stdout",
     "output_type": "stream",
     "text": [
      "https://www.jpl.nasa.gov/spaceimages/images/mediumsize/PIA18640_ip.jpg\n"
     ]
    }
   ],
   "source": [
    "options = webdriver.ChromeOptions()\n",
    "options.add_argument('--ignore-certificate-errors')\n",
    "options.add_argument(\"--test-type\")\n",
    "driver = webdriver.Chrome(chrome_options=options)\n",
    "driver.get(jpl_url)\n",
    "link = driver.find_element_by_partial_link_text(\"FULL IMAGE\").click()\n",
    "time.sleep(2)\n",
    "images = driver.find_elements_by_class_name('fancybox-image')\n",
    "\n",
    "\n",
    "for image in images:\n",
    "    image_url = image.get_attribute('src')\n",
    "    print(image_url)\n",
    "\n",
    "img=requests.get(image_url)#fetch image\n",
    "with open('featured_image.jpg','wb') as writer:#open for writing in binary mode\n",
    "    writer.write(img.content)#write the image"
   ]
  },
  {
   "cell_type": "code",
   "execution_count": 36,
   "metadata": {
    "ExecuteTime": {
     "end_time": "2018-08-23T17:07:50.406603Z",
     "start_time": "2018-08-23T17:07:33.949435Z"
    }
   },
   "outputs": [
    {
     "name": "stdout",
     "output_type": "stream",
     "text": [
      "Sol 2147 (2018-08-21), high -15C/5F, low -68C/-90F, pressure at 8.70 hPa, daylight 05:30-17:44\n"
     ]
    }
   ],
   "source": [
    "#get weather data from tweet\n",
    "driver = webdriver.Chrome(chrome_options=options)\n",
    "driver.get(twitter_url)\n",
    "tweet = driver.find_element_by_css_selector('p.tweet-text').text\n",
    "print(tweet)"
   ]
  },
  {
   "cell_type": "code",
   "execution_count": 42,
   "metadata": {
    "ExecuteTime": {
     "end_time": "2018-08-23T17:11:47.162694Z",
     "start_time": "2018-08-23T17:11:46.541355Z"
    }
   },
   "outputs": [
    {
     "data": {
      "text/html": [
       "<div>\n",
       "<style scoped>\n",
       "    .dataframe tbody tr th:only-of-type {\n",
       "        vertical-align: middle;\n",
       "    }\n",
       "\n",
       "    .dataframe tbody tr th {\n",
       "        vertical-align: top;\n",
       "    }\n",
       "\n",
       "    .dataframe thead th {\n",
       "        text-align: right;\n",
       "    }\n",
       "</style>\n",
       "<table border=\"1\" class=\"dataframe\">\n",
       "  <thead>\n",
       "    <tr style=\"text-align: right;\">\n",
       "      <th></th>\n",
       "      <th>0</th>\n",
       "      <th>1</th>\n",
       "    </tr>\n",
       "  </thead>\n",
       "  <tbody>\n",
       "    <tr>\n",
       "      <th>0</th>\n",
       "      <td>Equatorial Diameter:</td>\n",
       "      <td>6,792 km</td>\n",
       "    </tr>\n",
       "    <tr>\n",
       "      <th>1</th>\n",
       "      <td>Polar Diameter:</td>\n",
       "      <td>6,752 km</td>\n",
       "    </tr>\n",
       "    <tr>\n",
       "      <th>2</th>\n",
       "      <td>Mass:</td>\n",
       "      <td>6.42 x 10^23 kg (10.7% Earth)</td>\n",
       "    </tr>\n",
       "    <tr>\n",
       "      <th>3</th>\n",
       "      <td>Moons:</td>\n",
       "      <td>2 (Phobos &amp; Deimos)</td>\n",
       "    </tr>\n",
       "    <tr>\n",
       "      <th>4</th>\n",
       "      <td>Orbit Distance:</td>\n",
       "      <td>227,943,824 km (1.52 AU)</td>\n",
       "    </tr>\n",
       "  </tbody>\n",
       "</table>\n",
       "</div>"
      ],
      "text/plain": [
       "                      0                              1\n",
       "0  Equatorial Diameter:                       6,792 km\n",
       "1       Polar Diameter:                       6,752 km\n",
       "2                 Mass:  6.42 x 10^23 kg (10.7% Earth)\n",
       "3                Moons:            2 (Phobos & Deimos)\n",
       "4       Orbit Distance:       227,943,824 km (1.52 AU)"
      ]
     },
     "execution_count": 42,
     "metadata": {},
     "output_type": "execute_result"
    }
   ],
   "source": [
    "#get facts table about mars\n",
    "facts = pd.read_html(facts_url)[0]\n",
    "facts.head()\n"
   ]
  },
  {
   "cell_type": "code",
   "execution_count": 71,
   "metadata": {
    "ExecuteTime": {
     "end_time": "2018-08-27T15:14:49.223951Z",
     "start_time": "2018-08-27T15:14:32.475968Z"
    }
   },
   "outputs": [
    {
     "name": "stdout",
     "output_type": "stream",
     "text": [
      "8\n",
      "N: 1\n",
      "http://astropedia.astrogeology.usgs.gov/download/Mars/Viking/cerberus_enhanced.tif/full.jpg\n",
      "N: 3\n"
     ]
    },
    {
     "ename": "StaleElementReferenceException",
     "evalue": "Message: stale element reference: element is not attached to the page document\n  (Session info: chrome=68.0.3440.106)\n  (Driver info: chromedriver=2.41.578737 (49da6702b16031c40d63e5618de03a32ff6c197e),platform=Windows NT 10.0.17134 x86_64)\n",
     "output_type": "error",
     "traceback": [
      "\u001b[1;31m---------------------------------------------------------------------------\u001b[0m",
      "\u001b[1;31mStaleElementReferenceException\u001b[0m            Traceback (most recent call last)",
      "\u001b[1;32m<ipython-input-71-bbedfbe6775f>\u001b[0m in \u001b[0;36m<module>\u001b[1;34m()\u001b[0m\n\u001b[0;32m     10\u001b[0m     \u001b[1;32melse\u001b[0m\u001b[1;33m:\u001b[0m\u001b[1;33m\u001b[0m\u001b[0m\n\u001b[0;32m     11\u001b[0m         \u001b[0mprint\u001b[0m\u001b[1;33m(\u001b[0m\u001b[1;34mf\"N: {n}\"\u001b[0m\u001b[1;33m)\u001b[0m\u001b[1;33m\u001b[0m\u001b[0m\n\u001b[1;32m---> 12\u001b[1;33m         \u001b[0mhemi\u001b[0m\u001b[1;33m.\u001b[0m\u001b[0mclick\u001b[0m\u001b[1;33m(\u001b[0m\u001b[1;33m)\u001b[0m\u001b[1;33m\u001b[0m\u001b[0m\n\u001b[0m\u001b[0;32m     13\u001b[0m         \u001b[0mimage\u001b[0m \u001b[1;33m=\u001b[0m \u001b[0mdriver\u001b[0m\u001b[1;33m.\u001b[0m\u001b[0mfind_element_by_link_text\u001b[0m\u001b[1;33m(\u001b[0m\u001b[1;34m'Sample'\u001b[0m\u001b[1;33m)\u001b[0m\u001b[1;33m\u001b[0m\u001b[0m\n\u001b[0;32m     14\u001b[0m         \u001b[0mimage_url\u001b[0m \u001b[1;33m=\u001b[0m \u001b[0mimage\u001b[0m\u001b[1;33m.\u001b[0m\u001b[0mget_attribute\u001b[0m\u001b[1;33m(\u001b[0m\u001b[1;34m'href'\u001b[0m\u001b[1;33m)\u001b[0m\u001b[1;33m\u001b[0m\u001b[0m\n",
      "\u001b[1;32m~\\Anaconda3\\lib\\site-packages\\selenium\\webdriver\\remote\\webelement.py\u001b[0m in \u001b[0;36mclick\u001b[1;34m(self)\u001b[0m\n\u001b[0;32m     78\u001b[0m     \u001b[1;32mdef\u001b[0m \u001b[0mclick\u001b[0m\u001b[1;33m(\u001b[0m\u001b[0mself\u001b[0m\u001b[1;33m)\u001b[0m\u001b[1;33m:\u001b[0m\u001b[1;33m\u001b[0m\u001b[0m\n\u001b[0;32m     79\u001b[0m         \u001b[1;34m\"\"\"Clicks the element.\"\"\"\u001b[0m\u001b[1;33m\u001b[0m\u001b[0m\n\u001b[1;32m---> 80\u001b[1;33m         \u001b[0mself\u001b[0m\u001b[1;33m.\u001b[0m\u001b[0m_execute\u001b[0m\u001b[1;33m(\u001b[0m\u001b[0mCommand\u001b[0m\u001b[1;33m.\u001b[0m\u001b[0mCLICK_ELEMENT\u001b[0m\u001b[1;33m)\u001b[0m\u001b[1;33m\u001b[0m\u001b[0m\n\u001b[0m\u001b[0;32m     81\u001b[0m \u001b[1;33m\u001b[0m\u001b[0m\n\u001b[0;32m     82\u001b[0m     \u001b[1;32mdef\u001b[0m \u001b[0msubmit\u001b[0m\u001b[1;33m(\u001b[0m\u001b[0mself\u001b[0m\u001b[1;33m)\u001b[0m\u001b[1;33m:\u001b[0m\u001b[1;33m\u001b[0m\u001b[0m\n",
      "\u001b[1;32m~\\Anaconda3\\lib\\site-packages\\selenium\\webdriver\\remote\\webelement.py\u001b[0m in \u001b[0;36m_execute\u001b[1;34m(self, command, params)\u001b[0m\n\u001b[0;32m    626\u001b[0m             \u001b[0mparams\u001b[0m \u001b[1;33m=\u001b[0m \u001b[1;33m{\u001b[0m\u001b[1;33m}\u001b[0m\u001b[1;33m\u001b[0m\u001b[0m\n\u001b[0;32m    627\u001b[0m         \u001b[0mparams\u001b[0m\u001b[1;33m[\u001b[0m\u001b[1;34m'id'\u001b[0m\u001b[1;33m]\u001b[0m \u001b[1;33m=\u001b[0m \u001b[0mself\u001b[0m\u001b[1;33m.\u001b[0m\u001b[0m_id\u001b[0m\u001b[1;33m\u001b[0m\u001b[0m\n\u001b[1;32m--> 628\u001b[1;33m         \u001b[1;32mreturn\u001b[0m \u001b[0mself\u001b[0m\u001b[1;33m.\u001b[0m\u001b[0m_parent\u001b[0m\u001b[1;33m.\u001b[0m\u001b[0mexecute\u001b[0m\u001b[1;33m(\u001b[0m\u001b[0mcommand\u001b[0m\u001b[1;33m,\u001b[0m \u001b[0mparams\u001b[0m\u001b[1;33m)\u001b[0m\u001b[1;33m\u001b[0m\u001b[0m\n\u001b[0m\u001b[0;32m    629\u001b[0m \u001b[1;33m\u001b[0m\u001b[0m\n\u001b[0;32m    630\u001b[0m     \u001b[1;32mdef\u001b[0m \u001b[0mfind_element\u001b[0m\u001b[1;33m(\u001b[0m\u001b[0mself\u001b[0m\u001b[1;33m,\u001b[0m \u001b[0mby\u001b[0m\u001b[1;33m=\u001b[0m\u001b[0mBy\u001b[0m\u001b[1;33m.\u001b[0m\u001b[0mID\u001b[0m\u001b[1;33m,\u001b[0m \u001b[0mvalue\u001b[0m\u001b[1;33m=\u001b[0m\u001b[1;32mNone\u001b[0m\u001b[1;33m)\u001b[0m\u001b[1;33m:\u001b[0m\u001b[1;33m\u001b[0m\u001b[0m\n",
      "\u001b[1;32m~\\Anaconda3\\lib\\site-packages\\selenium\\webdriver\\remote\\webdriver.py\u001b[0m in \u001b[0;36mexecute\u001b[1;34m(self, driver_command, params)\u001b[0m\n\u001b[0;32m    318\u001b[0m         \u001b[0mresponse\u001b[0m \u001b[1;33m=\u001b[0m \u001b[0mself\u001b[0m\u001b[1;33m.\u001b[0m\u001b[0mcommand_executor\u001b[0m\u001b[1;33m.\u001b[0m\u001b[0mexecute\u001b[0m\u001b[1;33m(\u001b[0m\u001b[0mdriver_command\u001b[0m\u001b[1;33m,\u001b[0m \u001b[0mparams\u001b[0m\u001b[1;33m)\u001b[0m\u001b[1;33m\u001b[0m\u001b[0m\n\u001b[0;32m    319\u001b[0m         \u001b[1;32mif\u001b[0m \u001b[0mresponse\u001b[0m\u001b[1;33m:\u001b[0m\u001b[1;33m\u001b[0m\u001b[0m\n\u001b[1;32m--> 320\u001b[1;33m             \u001b[0mself\u001b[0m\u001b[1;33m.\u001b[0m\u001b[0merror_handler\u001b[0m\u001b[1;33m.\u001b[0m\u001b[0mcheck_response\u001b[0m\u001b[1;33m(\u001b[0m\u001b[0mresponse\u001b[0m\u001b[1;33m)\u001b[0m\u001b[1;33m\u001b[0m\u001b[0m\n\u001b[0m\u001b[0;32m    321\u001b[0m             response['value'] = self._unwrap_value(\n\u001b[0;32m    322\u001b[0m                 response.get('value', None))\n",
      "\u001b[1;32m~\\Anaconda3\\lib\\site-packages\\selenium\\webdriver\\remote\\errorhandler.py\u001b[0m in \u001b[0;36mcheck_response\u001b[1;34m(self, response)\u001b[0m\n\u001b[0;32m    240\u001b[0m                 \u001b[0malert_text\u001b[0m \u001b[1;33m=\u001b[0m \u001b[0mvalue\u001b[0m\u001b[1;33m[\u001b[0m\u001b[1;34m'alert'\u001b[0m\u001b[1;33m]\u001b[0m\u001b[1;33m.\u001b[0m\u001b[0mget\u001b[0m\u001b[1;33m(\u001b[0m\u001b[1;34m'text'\u001b[0m\u001b[1;33m)\u001b[0m\u001b[1;33m\u001b[0m\u001b[0m\n\u001b[0;32m    241\u001b[0m             \u001b[1;32mraise\u001b[0m \u001b[0mexception_class\u001b[0m\u001b[1;33m(\u001b[0m\u001b[0mmessage\u001b[0m\u001b[1;33m,\u001b[0m \u001b[0mscreen\u001b[0m\u001b[1;33m,\u001b[0m \u001b[0mstacktrace\u001b[0m\u001b[1;33m,\u001b[0m \u001b[0malert_text\u001b[0m\u001b[1;33m)\u001b[0m\u001b[1;33m\u001b[0m\u001b[0m\n\u001b[1;32m--> 242\u001b[1;33m         \u001b[1;32mraise\u001b[0m \u001b[0mexception_class\u001b[0m\u001b[1;33m(\u001b[0m\u001b[0mmessage\u001b[0m\u001b[1;33m,\u001b[0m \u001b[0mscreen\u001b[0m\u001b[1;33m,\u001b[0m \u001b[0mstacktrace\u001b[0m\u001b[1;33m)\u001b[0m\u001b[1;33m\u001b[0m\u001b[0m\n\u001b[0m\u001b[0;32m    243\u001b[0m \u001b[1;33m\u001b[0m\u001b[0m\n\u001b[0;32m    244\u001b[0m     \u001b[1;32mdef\u001b[0m \u001b[0m_value_or_default\u001b[0m\u001b[1;33m(\u001b[0m\u001b[0mself\u001b[0m\u001b[1;33m,\u001b[0m \u001b[0mobj\u001b[0m\u001b[1;33m,\u001b[0m \u001b[0mkey\u001b[0m\u001b[1;33m,\u001b[0m \u001b[0mdefault\u001b[0m\u001b[1;33m)\u001b[0m\u001b[1;33m:\u001b[0m\u001b[1;33m\u001b[0m\u001b[0m\n",
      "\u001b[1;31mStaleElementReferenceException\u001b[0m: Message: stale element reference: element is not attached to the page document\n  (Session info: chrome=68.0.3440.106)\n  (Driver info: chromedriver=2.41.578737 (49da6702b16031c40d63e5618de03a32ff6c197e),platform=Windows NT 10.0.17134 x86_64)\n"
     ]
    }
   ],
   "source": [
    "#get pictures of hemispheres\n",
    "driver = webdriver.Chrome(chrome_options=options)\n",
    "driver.get(usgs_url)\n",
    "hemis = driver.find_elements_by_css_selector('a.itemLink')\n",
    "print(len(hemis))\n",
    "n=0\n",
    "for hemi in hemis:\n",
    "    if n % 2 == 0:\n",
    "        next\n",
    "    else:\n",
    "        print(f\"N: {n}\")\n",
    "        hemi.click()\n",
    "        image = driver.find_element_by_link_text('Sample')\n",
    "        image_url = image.get_attribute('href')\n",
    "        print(image_url)\n",
    "        img=requests.get(image_url)#fetch image\n",
    "        with open(f'hemi_image_{n}.jpg','wb') as writer:#open for writing in binary mode\n",
    "            writer.write(img.content)#write the image\n",
    "        driver.execute_script(\"window.history.go(-1)\")#go back one page\n",
    "    n = n+1\n",
    "    "
   ]
  },
  {
   "cell_type": "code",
   "execution_count": null,
   "metadata": {},
   "outputs": [],
   "source": []
  }
 ],
 "metadata": {
  "kernelspec": {
   "display_name": "Python 3",
   "language": "python",
   "name": "python3"
  },
  "language_info": {
   "codemirror_mode": {
    "name": "ipython",
    "version": 3
   },
   "file_extension": ".py",
   "mimetype": "text/x-python",
   "name": "python",
   "nbconvert_exporter": "python",
   "pygments_lexer": "ipython3",
   "version": "3.6.5"
  }
 },
 "nbformat": 4,
 "nbformat_minor": 2
}
